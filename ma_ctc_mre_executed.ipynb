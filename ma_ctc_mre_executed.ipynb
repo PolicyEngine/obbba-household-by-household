{
 "cells": [
  {
   "cell_type": "markdown",
   "id": "1",
   "metadata": {},
   "source": [
    "# MRE: Federal CTC Expansion Reduces MA State Tax\n",
    "\n",
    "This notebook demonstrates how federal CTC expansion can reduce Massachusetts state tax by triggering itemization."
   ]
  },
  {
   "cell_type": "code",
   "execution_count": 1,
   "id": "2",
   "metadata": {
    "execution": {
     "iopub.execute_input": "2025-07-26T04:17:14.762320Z",
     "iopub.status.busy": "2025-07-26T04:17:14.762185Z",
     "iopub.status.idle": "2025-07-26T04:17:21.184696Z",
     "shell.execute_reply": "2025-07-26T04:17:21.184335Z"
    }
   },
   "outputs": [],
   "source": [
    "from policyengine_us import Simulation\n",
    "from policyengine_us.model_api import *"
   ]
  },
  {
   "cell_type": "markdown",
   "id": "3",
   "metadata": {},
   "source": [
    "## Define a minimal tax unit"
   ]
  },
  {
   "cell_type": "code",
   "execution_count": 2,
   "id": "4",
   "metadata": {
    "execution": {
     "iopub.execute_input": "2025-07-26T04:17:21.186153Z",
     "iopub.status.busy": "2025-07-26T04:17:21.186065Z",
     "iopub.status.idle": "2025-07-26T04:17:21.188007Z",
     "shell.execute_reply": "2025-07-26T04:17:21.187800Z"
    }
   },
   "outputs": [],
   "source": [
    "# Create a simple family in MA with medical expenses\n",
    "situation = {\n",
    "    \"people\": {\n",
    "        \"parent\": {\n",
    "            \"age\": {2026: 40},\n",
    "            \"employment_income\": {2026: 50_000},\n",
    "            \"medical_out_of_pocket_expenses\": {2026: 4_000},\n",
    "        },\n",
    "        \"child\": {\n",
    "            \"age\": {2026: 10},\n",
    "        },\n",
    "    },\n",
    "    \"tax_units\": {\n",
    "        \"tax_unit\": {\n",
    "            \"members\": [\"parent\", \"child\"],\n",
    "            \"tax_unit_childcare_expenses\": {2026: 0},\n",
    "        }\n",
    "    },\n",
    "    \"households\": {\n",
    "        \"household\": {\n",
    "            \"members\": [\"parent\", \"child\"],\n",
    "            \"state_code\": {2026: \"MA\"},\n",
    "        }\n",
    "    },\n",
    "}"
   ]
  },
  {
   "cell_type": "markdown",
   "id": "5",
   "metadata": {},
   "source": [
    "## Scenario 1: Without CTC Expansion"
   ]
  },
  {
   "cell_type": "code",
   "execution_count": 3,
   "id": "6",
   "metadata": {
    "execution": {
     "iopub.execute_input": "2025-07-26T04:17:21.189123Z",
     "iopub.status.busy": "2025-07-26T04:17:21.189048Z",
     "iopub.status.idle": "2025-07-26T04:17:27.882899Z",
     "shell.execute_reply": "2025-07-26T04:17:27.882618Z"
    }
   },
   "outputs": [
    {
     "name": "stdout",
     "output_type": "stream",
     "text": [
      "WITHOUT CTC EXPANSION:\n"
     ]
    },
    {
     "name": "stdout",
     "output_type": "stream",
     "text": [
      "  Federal itemizes: False\n",
      "  Federal tax (itemizing): $5,722.37\n",
      "  Federal tax (standard): $3,317.37\n",
      "  MA state tax: $1,474.15\n",
      "  MA Part B exemption: $7,800.00\n"
     ]
    }
   ],
   "source": [
    "# Reform stack WITHOUT CTC\n",
    "reform_no_ctc = Reform.from_dict({\n",
    "    \"gov.irs.income.bracket.rates.1\": {\"2026-01-01\": 0.12},\n",
    "    \"gov.irs.income.bracket.rates.2\": {\"2026-01-01\": 0.25},\n",
    "    \"gov.irs.deductions.standard.amount.SINGLE\": {\"2026-01-01\": 16_550},\n",
    "}, country_id=\"us\")\n",
    "\n",
    "sim_no_ctc = Simulation(situation=situation, reform=reform_no_ctc)\n",
    "\n",
    "print(\"WITHOUT CTC EXPANSION:\")\n",
    "print(f\"  Federal itemizes: {bool(sim_no_ctc.calculate('tax_unit_itemizes', 2026)[0])}\")\n",
    "print(f\"  Federal tax (itemizing): ${sim_no_ctc.calculate('tax_liability_if_itemizing', 2026)[0]:,.2f}\")\n",
    "print(f\"  Federal tax (standard): ${sim_no_ctc.calculate('tax_liability_if_not_itemizing', 2026)[0]:,.2f}\")\n",
    "print(f\"  MA state tax: ${sim_no_ctc.calculate('ma_income_tax', 2026)[0]:,.2f}\")\n",
    "print(f\"  MA Part B exemption: ${sim_no_ctc.calculate('ma_part_b_taxable_income_exemption', 2026)[0]:,.2f}\")"
   ]
  },
  {
   "cell_type": "markdown",
   "id": "7",
   "metadata": {},
   "source": [
    "## Scenario 2: With CTC Expansion"
   ]
  },
  {
   "cell_type": "code",
   "execution_count": 4,
   "id": "8",
   "metadata": {
    "execution": {
     "iopub.execute_input": "2025-07-26T04:17:27.884206Z",
     "iopub.status.busy": "2025-07-26T04:17:27.884123Z",
     "iopub.status.idle": "2025-07-26T04:17:34.652073Z",
     "shell.execute_reply": "2025-07-26T04:17:34.651803Z"
    }
   },
   "outputs": [
    {
     "name": "stdout",
     "output_type": "stream",
     "text": [
      "WITH CTC EXPANSION:\n"
     ]
    },
    {
     "name": "stdout",
     "output_type": "stream",
     "text": [
      "  Federal itemizes: False\n",
      "  Federal tax (itemizing): $3,722.37\n",
      "  Federal tax (standard): $1,317.37\n",
      "  MA state tax: $1,474.15\n",
      "  MA Part B exemption: $7,800.00\n"
     ]
    }
   ],
   "source": [
    "# Add CTC expansion\n",
    "reform_with_ctc = Reform.from_dict({\n",
    "    \"gov.irs.income.bracket.rates.1\": {\"2026-01-01\": 0.12},\n",
    "    \"gov.irs.income.bracket.rates.2\": {\"2026-01-01\": 0.25},\n",
    "    \"gov.irs.deductions.standard.amount.SINGLE\": {\"2026-01-01\": 16_550},\n",
    "    # CTC expansion\n",
    "    \"gov.irs.credits.ctc.amount.base[0].amount\": {\"2026-01-01\": 3_000},\n",
    "    \"gov.irs.credits.ctc.refundable.individual_max\": {\"2026-01-01\": 2_000},\n",
    "}, country_id=\"us\")\n",
    "\n",
    "sim_with_ctc = Simulation(situation=situation, reform=reform_with_ctc)\n",
    "\n",
    "print(\"WITH CTC EXPANSION:\")\n",
    "print(f\"  Federal itemizes: {bool(sim_with_ctc.calculate('tax_unit_itemizes', 2026)[0])}\")\n",
    "print(f\"  Federal tax (itemizing): ${sim_with_ctc.calculate('tax_liability_if_itemizing', 2026)[0]:,.2f}\")\n",
    "print(f\"  Federal tax (standard): ${sim_with_ctc.calculate('tax_liability_if_not_itemizing', 2026)[0]:,.2f}\")\n",
    "print(f\"  MA state tax: ${sim_with_ctc.calculate('ma_income_tax', 2026)[0]:,.2f}\")\n",
    "print(f\"  MA Part B exemption: ${sim_with_ctc.calculate('ma_part_b_taxable_income_exemption', 2026)[0]:,.2f}\")"
   ]
  },
  {
   "cell_type": "markdown",
   "id": "9",
   "metadata": {},
   "source": [
    "## Analysis"
   ]
  },
  {
   "cell_type": "code",
   "execution_count": 5,
   "id": "10",
   "metadata": {
    "execution": {
     "iopub.execute_input": "2025-07-26T04:17:34.653363Z",
     "iopub.status.busy": "2025-07-26T04:17:34.653276Z",
     "iopub.status.idle": "2025-07-26T04:17:34.655729Z",
     "shell.execute_reply": "2025-07-26T04:17:34.655496Z"
    }
   },
   "outputs": [
    {
     "name": "stdout",
     "output_type": "stream",
     "text": [
      "\n",
      "IMPACT OF FEDERAL CTC EXPANSION:\n",
      "  MA state tax change: $0.00\n",
      "  MA Part B exemption change: $0.00\n"
     ]
    }
   ],
   "source": [
    "# Calculate the impact\n",
    "ma_tax_no_ctc = sim_no_ctc.calculate('ma_income_tax', 2026)[0]\n",
    "ma_tax_with_ctc = sim_with_ctc.calculate('ma_income_tax', 2026)[0]\n",
    "ma_tax_change = ma_tax_with_ctc - ma_tax_no_ctc\n",
    "\n",
    "exemption_no_ctc = sim_no_ctc.calculate('ma_part_b_taxable_income_exemption', 2026)[0]\n",
    "exemption_with_ctc = sim_with_ctc.calculate('ma_part_b_taxable_income_exemption', 2026)[0]\n",
    "exemption_change = exemption_with_ctc - exemption_no_ctc\n",
    "\n",
    "print(\"\\nIMPACT OF FEDERAL CTC EXPANSION:\")\n",
    "print(f\"  MA state tax change: ${ma_tax_change:,.2f}\")\n",
    "print(f\"  MA Part B exemption change: ${exemption_change:,.2f}\")\n",
    "\n",
    "if exemption_change > 0:\n",
    "    print(f\"\\nMECHANISM:\")\n",
    "    print(f\"1. CTC expansion may trigger federal itemization\")\n",
    "    print(f\"2. MA allows itemizers to claim medical expense deduction\")\n",
    "    print(f\"3. Medical expense deduction: ${sim_with_ctc.calculate('medical_expense_deduction', 2026)[0]:,.2f}\")\n",
    "    print(f\"4. MA tax rate: 5%\")\n",
    "    print(f\"5. Expected tax savings: ${exemption_change:,.2f} × 5% = ${exemption_change * 0.05:,.2f}\")"
   ]
  }
 ],
 "metadata": {
  "kernelspec": {
   "display_name": "Python 3",
   "language": "python",
   "name": "python3"
  },
  "language_info": {
   "codemirror_mode": {
    "name": "ipython",
    "version": 3
   },
   "file_extension": ".py",
   "mimetype": "text/x-python",
   "name": "python",
   "nbconvert_exporter": "python",
   "pygments_lexer": "ipython3",
   "version": "3.13.3"
  }
 },
 "nbformat": 4,
 "nbformat_minor": 5
}
