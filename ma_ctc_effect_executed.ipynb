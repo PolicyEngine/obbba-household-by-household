{
 "cells": [
  {
   "cell_type": "markdown",
   "metadata": {},
   "source": [
    "# Federal CTC Expansion Reduces MA State Tax\n",
    "\n",
    "This notebook demonstrates how federal CTC expansion reduces Massachusetts state tax for household 4428."
   ]
  },
  {
   "cell_type": "code",
   "execution_count": 1,
   "metadata": {
    "execution": {
     "iopub.execute_input": "2025-07-26T04:01:03.748545Z",
     "iopub.status.busy": "2025-07-26T04:01:03.748234Z",
     "iopub.status.idle": "2025-07-26T04:01:12.076072Z",
     "shell.execute_reply": "2025-07-26T04:01:12.075709Z"
    }
   },
   "outputs": [
    {
     "name": "stderr",
     "output_type": "stream",
     "text": [
      "\n",
      "A module that was compiled using NumPy 1.x cannot be run in\n",
      "NumPy 2.1.3 as it may crash. To support both 1.x and 2.x\n",
      "versions of NumPy, modules must be compiled with NumPy 2.0.\n",
      "Some module may need to rebuild instead e.g. with 'pybind11>=2.12'.\n",
      "\n",
      "If you are a user of the module, the easiest solution will be to\n",
      "downgrade to 'numpy<2' or try to upgrade the affected module.\n",
      "We expect that some modules will need time to support NumPy 2.\n",
      "\n",
      "Traceback (most recent call last):  File \"/opt/homebrew/Cellar/python@3.10/3.10.17/Frameworks/Python.framework/Versions/3.10/lib/python3.10/runpy.py\", line 196, in _run_module_as_main\n",
      "    return _run_code(code, main_globals, None,\n",
      "  File \"/opt/homebrew/Cellar/python@3.10/3.10.17/Frameworks/Python.framework/Versions/3.10/lib/python3.10/runpy.py\", line 86, in _run_code\n",
      "    exec(code, run_globals)\n",
      "  File \"/Users/maxghenis/Library/Python/3.10/lib/python/site-packages/ipykernel_launcher.py\", line 18, in <module>\n",
      "    app.launch_new_instance()\n",
      "  File \"/Users/maxghenis/Library/Python/3.10/lib/python/site-packages/traitlets/config/application.py\", line 1075, in launch_instance\n",
      "    app.start()\n",
      "  File \"/Users/maxghenis/Library/Python/3.10/lib/python/site-packages/ipykernel/kernelapp.py\", line 739, in start\n",
      "    self.io_loop.start()\n",
      "  File \"/opt/homebrew/lib/python3.10/site-packages/tornado/platform/asyncio.py\", line 205, in start\n",
      "    self.asyncio_loop.run_forever()\n",
      "  File \"/opt/homebrew/Cellar/python@3.10/3.10.17/Frameworks/Python.framework/Versions/3.10/lib/python3.10/asyncio/base_events.py\", line 603, in run_forever\n",
      "    self._run_once()\n",
      "  File \"/opt/homebrew/Cellar/python@3.10/3.10.17/Frameworks/Python.framework/Versions/3.10/lib/python3.10/asyncio/base_events.py\", line 1909, in _run_once\n",
      "    handle._run()\n",
      "  File \"/opt/homebrew/Cellar/python@3.10/3.10.17/Frameworks/Python.framework/Versions/3.10/lib/python3.10/asyncio/events.py\", line 80, in _run\n",
      "    self._context.run(self._callback, *self._args)\n",
      "  File \"/Users/maxghenis/Library/Python/3.10/lib/python/site-packages/ipykernel/kernelbase.py\", line 545, in dispatch_queue\n",
      "    await self.process_one()\n",
      "  File \"/Users/maxghenis/Library/Python/3.10/lib/python/site-packages/ipykernel/kernelbase.py\", line 534, in process_one\n",
      "    await dispatch(*args)\n",
      "  File \"/Users/maxghenis/Library/Python/3.10/lib/python/site-packages/ipykernel/kernelbase.py\", line 437, in dispatch_shell\n",
      "    await result\n",
      "  File \"/Users/maxghenis/Library/Python/3.10/lib/python/site-packages/ipykernel/ipkernel.py\", line 362, in execute_request\n",
      "    await super().execute_request(stream, ident, parent)\n",
      "  File \"/Users/maxghenis/Library/Python/3.10/lib/python/site-packages/ipykernel/kernelbase.py\", line 778, in execute_request\n",
      "    reply_content = await reply_content\n",
      "  File \"/Users/maxghenis/Library/Python/3.10/lib/python/site-packages/ipykernel/ipkernel.py\", line 449, in do_execute\n",
      "    res = shell.run_cell(\n",
      "  File \"/Users/maxghenis/Library/Python/3.10/lib/python/site-packages/ipykernel/zmqshell.py\", line 549, in run_cell\n",
      "    return super().run_cell(*args, **kwargs)\n",
      "  File \"/opt/homebrew/lib/python3.10/site-packages/IPython/core/interactiveshell.py\", line 3077, in run_cell\n",
      "    result = self._run_cell(\n",
      "  File \"/opt/homebrew/lib/python3.10/site-packages/IPython/core/interactiveshell.py\", line 3132, in _run_cell\n",
      "    result = runner(coro)\n",
      "  File \"/opt/homebrew/lib/python3.10/site-packages/IPython/core/async_helpers.py\", line 128, in _pseudo_sync_runner\n",
      "    coro.send(None)\n",
      "  File \"/opt/homebrew/lib/python3.10/site-packages/IPython/core/interactiveshell.py\", line 3336, in run_cell_async\n",
      "    has_raised = await self.run_ast_nodes(code_ast.body, cell_name,\n",
      "  File \"/opt/homebrew/lib/python3.10/site-packages/IPython/core/interactiveshell.py\", line 3519, in run_ast_nodes\n",
      "    if await self.run_code(code, result, async_=asy):\n",
      "  File \"/opt/homebrew/lib/python3.10/site-packages/IPython/core/interactiveshell.py\", line 3579, in run_code\n",
      "    exec(code_obj, self.user_global_ns, self.user_ns)\n",
      "  File \"/var/folders/4k/gjnmnbfs7rqdzdrrc6v_x7yc0000gn/T/ipykernel_37036/1161768726.py\", line 1, in <module>\n",
      "    from policyengine_us import Microsimulation\n",
      "  File \"/Users/maxghenis/PolicyEngine/policyengine-us/policyengine_us/__init__.py\", line 11, in <module>\n",
      "    from policyengine_us.system import (\n",
      "  File \"/Users/maxghenis/PolicyEngine/policyengine-us/policyengine_us/system.py\", line 30, in <module>\n",
      "    from policyengine_us_data import DATASETS, CPS_2024\n",
      "  File \"/opt/homebrew/lib/python3.10/site-packages/policyengine_us_data/__init__.py\", line 1, in <module>\n",
      "    from .datasets import *\n",
      "  File \"/opt/homebrew/lib/python3.10/site-packages/policyengine_us_data/datasets/__init__.py\", line 1, in <module>\n",
      "    from .cps import (\n",
      "  File \"/opt/homebrew/lib/python3.10/site-packages/policyengine_us_data/datasets/cps/__init__.py\", line 1, in <module>\n",
      "    from .cps import *\n",
      "  File \"/opt/homebrew/lib/python3.10/site-packages/policyengine_us_data/datasets/cps/cps.py\", line 11, in <module>\n",
      "    from policyengine_us_data.utils.uprating import (\n",
      "  File \"/opt/homebrew/lib/python3.10/site-packages/policyengine_us_data/utils/__init__.py\", line 5, in <module>\n",
      "    from .qrf import *\n",
      "  File \"/opt/homebrew/lib/python3.10/site-packages/policyengine_us_data/utils/qrf.py\", line 2, in <module>\n",
      "    from quantile_forest import RandomForestQuantileRegressor\n",
      "  File \"/opt/homebrew/lib/python3.10/site-packages/quantile_forest/__init__.py\", line 26, in <module>\n",
      "    from ._quantile_forest import ExtraTreesQuantileRegressor, RandomForestQuantileRegressor\n",
      "  File \"/opt/homebrew/lib/python3.10/site-packages/quantile_forest/_quantile_forest.py\", line 33, in <module>\n",
      "    import sklearn\n",
      "  File \"/opt/homebrew/lib/python3.10/site-packages/sklearn/__init__.py\", line 84, in <module>\n",
      "    from .base import clone\n",
      "  File \"/opt/homebrew/lib/python3.10/site-packages/sklearn/base.py\", line 19, in <module>\n",
      "    from .utils._estimator_html_repr import _HTMLDocumentationLinkMixin, estimator_html_repr\n",
      "  File \"/opt/homebrew/lib/python3.10/site-packages/sklearn/utils/__init__.py\", line 11, in <module>\n",
      "    from ._chunking import gen_batches, gen_even_slices\n",
      "  File \"/opt/homebrew/lib/python3.10/site-packages/sklearn/utils/_chunking.py\", line 8, in <module>\n",
      "    from ._param_validation import Interval, validate_params\n",
      "  File \"/opt/homebrew/lib/python3.10/site-packages/sklearn/utils/_param_validation.py\", line 11, in <module>\n",
      "    from scipy.sparse import csr_matrix, issparse\n",
      "  File \"/opt/homebrew/lib/python3.10/site-packages/scipy/sparse/__init__.py\", line 274, in <module>\n",
      "    from ._csr import *\n",
      "  File \"/opt/homebrew/lib/python3.10/site-packages/scipy/sparse/_csr.py\", line 11, in <module>\n",
      "    from ._sparsetools import (csr_tocsc, csr_tobsr, csr_count_blocks,\n"
     ]
    },
    {
     "ename": "AttributeError",
     "evalue": "_ARRAY_API not found",
     "output_type": "error",
     "traceback": [
      "\u001b[0;31m---------------------------------------------------------------------------\u001b[0m",
      "\u001b[0;31mAttributeError\u001b[0m                            Traceback (most recent call last)",
      "\u001b[0;31mAttributeError\u001b[0m: _ARRAY_API not found"
     ]
    }
   ],
   "source": [
    "from policyengine_us import Microsimulation\n",
    "from policyengine_us.model_api import *\n",
    "import numpy as np\n",
    "\n",
    "DATASET = \"hf://policyengine/policyengine-us-data/enhanced_cps_2024.h5\"\n",
    "YEAR = 2026"
   ]
  },
  {
   "cell_type": "markdown",
   "metadata": {},
   "source": [
    "## Compare Scenarios\n",
    "\n",
    "We'll compare the same reform stack with and without CTC expansion:"
   ]
  },
  {
   "cell_type": "code",
   "execution_count": 2,
   "metadata": {
    "execution": {
     "iopub.execute_input": "2025-07-26T04:01:12.078069Z",
     "iopub.status.busy": "2025-07-26T04:01:12.077880Z",
     "iopub.status.idle": "2025-07-26T04:01:44.180002Z",
     "shell.execute_reply": "2025-07-26T04:01:44.179525Z"
    }
   },
   "outputs": [
    {
     "name": "stdout",
     "output_type": "stream",
     "text": [
      "WITHOUT CTC EXPANSION:\n"
     ]
    },
    {
     "name": "stdout",
     "output_type": "stream",
     "text": [
      "  Federal itemizes: False\n"
     ]
    },
    {
     "name": "stdout",
     "output_type": "stream",
     "text": [
      "  MA state tax: $-4,409.01\n",
      "  MA Part B exemption: $12,800.00\n"
     ]
    }
   ],
   "source": [
    "# Reform stack WITHOUT CTC\n",
    "reform_no_ctc = Reform.from_dict({\n",
    "    \"gov.irs.income.bracket.rates.2\": {\"2026-01-01\": 0.15},\n",
    "    \"gov.irs.income.bracket.rates.3\": {\"2026-01-01\": 0.25},\n",
    "    \"gov.irs.income.bracket.rates.4\": {\"2026-01-01\": 0.28},\n",
    "    \"gov.irs.deductions.standard.amount.JOINT\": {\"2026-01-01\": 48900},\n",
    "    \"gov.irs.income.exemption.amount\": {\"2026-01-01\": 0},\n",
    "}, country_id=\"us\")\n",
    "\n",
    "sim_no_ctc = Microsimulation(reform=reform_no_ctc, dataset=DATASET)\n",
    "\n",
    "# Find tax unit 442801\n",
    "tax_unit_ids = sim_no_ctc.calculate(\"tax_unit_id\", period=YEAR).values\n",
    "tu_idx = np.where(tax_unit_ids == 442801)[0][0]\n",
    "\n",
    "print(\"WITHOUT CTC EXPANSION:\")\n",
    "print(f\"  Federal itemizes: {bool(sim_no_ctc.calculate('tax_unit_itemizes', YEAR).values[tu_idx])}\")\n",
    "print(f\"  MA state tax: ${sim_no_ctc.calculate('ma_income_tax', YEAR).values[tu_idx]:,.2f}\")\n",
    "print(f\"  MA Part B exemption: ${sim_no_ctc.calculate('ma_part_b_taxable_income_exemption', YEAR).values[tu_idx]:,.2f}\")"
   ]
  },
  {
   "cell_type": "code",
   "execution_count": 3,
   "metadata": {
    "execution": {
     "iopub.execute_input": "2025-07-26T04:01:44.185022Z",
     "iopub.status.busy": "2025-07-26T04:01:44.184878Z",
     "iopub.status.idle": "2025-07-26T04:02:16.298859Z",
     "shell.execute_reply": "2025-07-26T04:02:16.298334Z"
    }
   },
   "outputs": [
    {
     "name": "stdout",
     "output_type": "stream",
     "text": [
      "WITH CTC EXPANSION:\n"
     ]
    },
    {
     "name": "stdout",
     "output_type": "stream",
     "text": [
      "  Federal itemizes: True\n"
     ]
    },
    {
     "name": "stdout",
     "output_type": "stream",
     "text": [
      "  MA state tax: $-4,465.42\n",
      "  MA Part B exemption: $13,928.17\n"
     ]
    }
   ],
   "source": [
    "# Add CTC expansion\n",
    "reform_with_ctc = Reform.from_dict({\n",
    "    \"gov.irs.income.bracket.rates.2\": {\"2026-01-01\": 0.15},\n",
    "    \"gov.irs.income.bracket.rates.3\": {\"2026-01-01\": 0.25},\n",
    "    \"gov.irs.income.bracket.rates.4\": {\"2026-01-01\": 0.28},\n",
    "    \"gov.irs.deductions.standard.amount.JOINT\": {\"2026-01-01\": 48900},\n",
    "    \"gov.irs.income.exemption.amount\": {\"2026-01-01\": 0},\n",
    "    # CTC expansion\n",
    "    \"gov.contrib.reconciliation.ctc.in_effect\": {\"2026-01-01\": True},\n",
    "    \"gov.irs.credits.ctc.amount.base[0].amount\": {\"2026-01-01\": 2200},\n",
    "}, country_id=\"us\")\n",
    "\n",
    "sim_with_ctc = Microsimulation(reform=reform_with_ctc, dataset=DATASET)\n",
    "\n",
    "print(\"WITH CTC EXPANSION:\")\n",
    "print(f\"  Federal itemizes: {bool(sim_with_ctc.calculate('tax_unit_itemizes', YEAR).values[tu_idx])}\")\n",
    "print(f\"  MA state tax: ${sim_with_ctc.calculate('ma_income_tax', YEAR).values[tu_idx]:,.2f}\")\n",
    "print(f\"  MA Part B exemption: ${sim_with_ctc.calculate('ma_part_b_taxable_income_exemption', YEAR).values[tu_idx]:,.2f}\")"
   ]
  },
  {
   "cell_type": "markdown",
   "metadata": {},
   "source": [
    "## The Mechanism"
   ]
  },
  {
   "cell_type": "code",
   "execution_count": 4,
   "metadata": {
    "execution": {
     "iopub.execute_input": "2025-07-26T04:02:16.310232Z",
     "iopub.status.busy": "2025-07-26T04:02:16.310081Z",
     "iopub.status.idle": "2025-07-26T04:02:16.314821Z",
     "shell.execute_reply": "2025-07-26T04:02:16.314563Z"
    }
   },
   "outputs": [
    {
     "name": "stdout",
     "output_type": "stream",
     "text": [
      "IMPACT OF FEDERAL CTC EXPANSION ON MA STATE TAX:\n",
      "  MA state tax reduction: $56.41\n",
      "  MA Part B exemption increase: $1,128.17\n",
      "\n",
      "MECHANISM:\n",
      "1. CTC expansion triggers federal itemization\n",
      "2. MA allows itemizers to claim medical expense deduction\n",
      "3. Medical expense deduction: $1,128.17\n",
      "4. MA tax rate: 5%\n",
      "5. Tax savings: $1,128.17 × 5% = $56.41\n",
      "\n",
      "Federal tax is same either way: True\n"
     ]
    }
   ],
   "source": [
    "# Calculate the impact\n",
    "ma_tax_change = (sim_with_ctc.calculate('ma_income_tax', YEAR).values[tu_idx] - \n",
    "                 sim_no_ctc.calculate('ma_income_tax', YEAR).values[tu_idx])\n",
    "\n",
    "exemption_change = (sim_with_ctc.calculate('ma_part_b_taxable_income_exemption', YEAR).values[tu_idx] - \n",
    "                    sim_no_ctc.calculate('ma_part_b_taxable_income_exemption', YEAR).values[tu_idx])\n",
    "\n",
    "print(\"IMPACT OF FEDERAL CTC EXPANSION ON MA STATE TAX:\")\n",
    "print(f\"  MA state tax reduction: ${-ma_tax_change:,.2f}\")\n",
    "print(f\"  MA Part B exemption increase: ${exemption_change:,.2f}\")\n",
    "\n",
    "print(f\"\\nMECHANISM:\")\n",
    "print(f\"1. CTC expansion triggers federal itemization\")\n",
    "print(f\"2. MA allows itemizers to claim medical expense deduction\")\n",
    "print(f\"3. Medical expense deduction: ${sim_with_ctc.calculate('medical_expense_deduction', YEAR).values[tu_idx]:,.2f}\")\n",
    "print(f\"4. MA tax rate: 5%\")\n",
    "print(f\"5. Tax savings: ${exemption_change:,.2f} × 5% = ${exemption_change * 0.05:,.2f}\")\n",
    "\n",
    "# Verify federal tax is same either way\n",
    "fed_tax_item = sim_with_ctc.calculate('tax_liability_if_itemizing', YEAR).values[tu_idx]\n",
    "fed_tax_std = sim_with_ctc.calculate('tax_liability_if_not_itemizing', YEAR).values[tu_idx]\n",
    "print(f\"\\nFederal tax is same either way: {abs(fed_tax_item - fed_tax_std) < 0.01}\")"
   ]
  }
 ],
 "metadata": {
  "kernelspec": {
   "display_name": "Python 3",
   "language": "python",
   "name": "python3"
  },
  "language_info": {
   "codemirror_mode": {
    "name": "ipython",
    "version": 3
   },
   "file_extension": ".py",
   "mimetype": "text/x-python",
   "name": "python",
   "nbconvert_exporter": "python",
   "pygments_lexer": "ipython3",
   "version": "3.10.17"
  }
 },
 "nbformat": 4,
 "nbformat_minor": 4
}
