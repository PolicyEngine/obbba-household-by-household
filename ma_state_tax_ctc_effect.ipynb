{
 "cells": [
  {
   "cell_type": "markdown",
   "metadata": {},
   "source": [
    "# Federal CTC Expansion Reduces MA State Tax\n",
    "\n",
    "This notebook demonstrates how the federal Child Tax Credit expansion reduces Massachusetts state tax liability through an itemization interaction."
   ]
  },
  {
   "cell_type": "code",
   "execution_count": null,
   "metadata": {},
   "outputs": [],
   "source": [
    "from policyengine_us import Simulation\n",
    "from policyengine_us.model_api import *"
   ]
  },
  {
   "cell_type": "markdown",
   "metadata": {},
   "source": [
    "## Create Test Scenario\n",
    "\n",
    "A Massachusetts family with medical expenses that benefit from itemizing:"
   ]
  },
  {
   "cell_type": "code",
   "execution_count": null,
   "metadata": {},
   "outputs": [],
   "source": "# Create a family similar to tax unit 442801\nsituation = {\n    \"people\": {\n        \"parent1\": {\n            \"age\": {2026: 47},\n            \"employment_income\": {2026: 22500},\n            \"medical_out_of_pocket_expenses\": {2026: 3900},\n        },\n        \"parent2\": {\n            \"age\": {2026: 43},\n        },\n        \"child1\": {\"age\": {2026: 13}},\n        \"child2\": {\"age\": {2026: 12}},\n        \"child3\": {\"age\": {2026: 6}},\n        \"child4\": {\"age\": {2026: 4}},\n    },\n    \"tax_units\": {\n        \"tax_unit\": {\n            \"members\": [\"parent1\", \"parent2\", \"child1\", \"child2\", \"child3\", \"child4\"],\n            \"state_income_tax\": {2026: 900},\n        }\n    },\n    \"households\": {\n        \"household\": {\n            \"members\": [\"parent1\", \"parent2\", \"child1\", \"child2\", \"child3\", \"child4\"],\n            \"state_code\": {2026: \"MA\"},\n        }\n    },\n}"
  },
  {
   "cell_type": "markdown",
   "metadata": {},
   "source": [
    "## Test Without CTC Expansion"
   ]
  },
  {
   "cell_type": "code",
   "execution_count": null,
   "metadata": {},
   "outputs": [],
   "source": [
    "# Reform stack WITHOUT CTC expansion\n",
    "reform_no_ctc = Reform.from_dict({\n",
    "    # Tax rates\n",
    "    \"gov.irs.income.bracket.rates.2\": {\"2026-01-01\": 0.15},\n",
    "    \"gov.irs.income.bracket.rates.3\": {\"2026-01-01\": 0.25},\n",
    "    # Standard deduction increase\n",
    "    \"gov.irs.deductions.standard.amount.JOINT\": {\"2026-01-01\": 48900},\n",
    "    # Exemption elimination\n",
    "    \"gov.irs.income.exemption.amount\": {\"2026-01-01\": 0},\n",
    "}, country_id=\"us\")\n",
    "\n",
    "sim_no_ctc = Simulation(situation=situation, reform=reform_no_ctc)\n",
    "\n",
    "print(\"WITHOUT CTC EXPANSION:\")\n",
    "print(f\"  Federal itemizes: {bool(sim_no_ctc.calculate('tax_unit_itemizes', 2026)[0])}\")\n",
    "print(f\"  MA state tax: ${sim_no_ctc.calculate('ma_income_tax', 2026)[0]:,.2f}\")\n",
    "print(f\"  MA Part B exemption: ${sim_no_ctc.calculate('ma_part_b_taxable_income_exemption', 2026)[0]:,.2f}\")"
   ]
  },
  {
   "cell_type": "markdown",
   "metadata": {},
   "source": [
    "## Test With CTC Expansion"
   ]
  },
  {
   "cell_type": "code",
   "execution_count": null,
   "metadata": {},
   "outputs": [],
   "source": [
    "# Add CTC expansion\n",
    "reform_with_ctc = Reform.from_dict({\n",
    "    # Same as above plus CTC\n",
    "    \"gov.irs.income.bracket.rates.2\": {\"2026-01-01\": 0.15},\n",
    "    \"gov.irs.income.bracket.rates.3\": {\"2026-01-01\": 0.25},\n",
    "    \"gov.irs.deductions.standard.amount.JOINT\": {\"2026-01-01\": 48900},\n",
    "    \"gov.irs.income.exemption.amount\": {\"2026-01-01\": 0},\n",
    "    # CTC expansion\n",
    "    \"gov.contrib.reconciliation.ctc.in_effect\": {\"2026-01-01\": True},\n",
    "    \"gov.irs.credits.ctc.amount.base[0].amount\": {\"2026-01-01\": 2200},\n",
    "    \"gov.irs.credits.ctc.refundable.individual_max\": {\"2026-01-01\": 1700},\n",
    "}, country_id=\"us\")\n",
    "\n",
    "sim_with_ctc = Simulation(situation=situation, reform=reform_with_ctc)\n",
    "\n",
    "print(\"WITH CTC EXPANSION:\")\n",
    "print(f\"  Federal itemizes: {bool(sim_with_ctc.calculate('tax_unit_itemizes', 2026)[0])}\")\n",
    "print(f\"  MA state tax: ${sim_with_ctc.calculate('ma_income_tax', 2026)[0]:,.2f}\")\n",
    "print(f\"  MA Part B exemption: ${sim_with_ctc.calculate('ma_part_b_taxable_income_exemption', 2026)[0]:,.2f}\")"
   ]
  },
  {
   "cell_type": "markdown",
   "metadata": {},
   "source": [
    "## The Mechanism\n",
    "\n",
    "Massachusetts allows itemizers to deduct medical expenses as part of their Part B exemption:"
   ]
  },
  {
   "cell_type": "code",
   "execution_count": null,
   "metadata": {},
   "outputs": [],
   "source": [
    "# Compare the two scenarios\n",
    "ma_tax_no_ctc = sim_no_ctc.calculate('ma_income_tax', 2026)[0]\n",
    "ma_tax_with_ctc = sim_with_ctc.calculate('ma_income_tax', 2026)[0]\n",
    "\n",
    "ma_exemption_no_ctc = sim_no_ctc.calculate('ma_part_b_taxable_income_exemption', 2026)[0]\n",
    "ma_exemption_with_ctc = sim_with_ctc.calculate('ma_part_b_taxable_income_exemption', 2026)[0]\n",
    "\n",
    "print(\"IMPACT OF CTC EXPANSION:\")\n",
    "print(f\"  MA state tax change: ${ma_tax_with_ctc - ma_tax_no_ctc:,.2f}\")\n",
    "print(f\"  MA Part B exemption change: ${ma_exemption_with_ctc - ma_exemption_no_ctc:,.2f}\")\n",
    "\n",
    "print(f\"\\nMechanism:\")\n",
    "print(f\"1. CTC expansion causes federal itemization\")\n",
    "print(f\"2. MA allows itemizers to deduct medical expenses in Part B exemption\")\n",
    "print(f\"3. Medical expense deduction: ${sim_with_ctc.calculate('medical_expense_deduction', 2026)[0]:,.2f}\")\n",
    "print(f\"4. MA tax rate: 5%\")\n",
    "print(f\"5. Tax savings: ${ma_exemption_with_ctc - ma_exemption_no_ctc:,.2f} × 5% = ${(ma_exemption_with_ctc - ma_exemption_no_ctc) * 0.05:,.2f}\")"
   ]
  }
 ],
 "metadata": {
  "kernelspec": {
   "display_name": "Python 3",
   "language": "python",
   "name": "python3"
  }
 },
 "nbformat": 4,
 "nbformat_minor": 4
}