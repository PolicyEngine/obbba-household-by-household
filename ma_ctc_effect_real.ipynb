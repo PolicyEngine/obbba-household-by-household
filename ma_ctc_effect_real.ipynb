{
 "cells": [
  {
   "cell_type": "markdown",
   "metadata": {},
   "source": [
    "# Federal CTC Expansion Reduces MA State Tax\n",
    "\n",
    "This notebook demonstrates how federal CTC expansion reduces Massachusetts state tax for household 4428."
   ]
  },
  {
   "cell_type": "code",
   "execution_count": 1,
   "metadata": {},
   "outputs": [],
   "source": [
    "from policyengine_us import Microsimulation\n",
    "from policyengine_us.model_api import *\n",
    "import numpy as np\n",
    "\n",
    "DATASET = \"hf://policyengine/policyengine-us-data/enhanced_cps_2024.h5\"\n",
    "YEAR = 2026"
   ]
  },
  {
   "cell_type": "markdown",
   "metadata": {},
   "source": [
    "## Compare Scenarios\n",
    "\n",
    "We'll compare the same reform stack with and without CTC expansion:"
   ]
  },
  {
   "cell_type": "code",
   "execution_count": 2,
   "metadata": {},
   "outputs": [
    {
     "name": "stdout",
     "output_type": "stream",
     "text": [
      "WITHOUT CTC EXPANSION:\n",
      "  Federal itemizes: False\n",
      "  MA state tax: $-3,402.70\n",
      "  MA Part B exemption: $7,400.00\n"
     ]
    }
   ],
   "source": [
    "# Reform stack WITHOUT CTC\n",
    "reform_no_ctc = Reform.from_dict({\n",
    "    \"gov.irs.income.bracket.rates.2\": {\"2026-01-01\": 0.15},\n",
    "    \"gov.irs.income.bracket.rates.3\": {\"2026-01-01\": 0.25},\n",
    "    \"gov.irs.income.bracket.rates.4\": {\"2026-01-01\": 0.28},\n",
    "    \"gov.irs.deductions.standard.amount.JOINT\": {\"2026-01-01\": 48900},\n",
    "    \"gov.irs.income.exemption.amount\": {\"2026-01-01\": 0},\n",
    "}, country_id=\"us\")\n",
    "\n",
    "sim_no_ctc = Microsimulation(reform=reform_no_ctc, dataset=DATASET)\n",
    "\n",
    "# Find tax unit 442801\n",
    "tax_unit_ids = sim_no_ctc.calculate(\"tax_unit_id\", period=YEAR).values\n",
    "tu_idx = np.where(tax_unit_ids == 442801)[0][0]\n",
    "\n",
    "print(\"WITHOUT CTC EXPANSION:\")\n",
    "print(f\"  Federal itemizes: {bool(sim_no_ctc.calculate('tax_unit_itemizes', YEAR).values[tu_idx])}\")\n",
    "print(f\"  MA state tax: ${sim_no_ctc.calculate('ma_income_tax', YEAR).values[tu_idx]:,.2f}\")\n",
    "print(f\"  MA Part B exemption: ${sim_no_ctc.calculate('ma_part_b_taxable_income_exemption', YEAR).values[tu_idx]:,.2f}\")"
   ]
  },
  {
   "cell_type": "code",
   "execution_count": 3,
   "metadata": {},
   "outputs": [
    {
     "name": "stdout",
     "output_type": "stream",
     "text": [
      "WITH CTC EXPANSION:\n",
      "  Federal itemizes: True\n",
      "  MA state tax: $-3,459.11\n",
      "  MA Part B exemption: $8,528.17\n"
     ]
    }
   ],
   "source": [
    "# Add CTC expansion\n",
    "reform_with_ctc = Reform.from_dict({\n",
    "    \"gov.irs.income.bracket.rates.2\": {\"2026-01-01\": 0.15},\n",
    "    \"gov.irs.income.bracket.rates.3\": {\"2026-01-01\": 0.25},\n",
    "    \"gov.irs.income.bracket.rates.4\": {\"2026-01-01\": 0.28},\n",
    "    \"gov.irs.deductions.standard.amount.JOINT\": {\"2026-01-01\": 48900},\n",
    "    \"gov.irs.income.exemption.amount\": {\"2026-01-01\": 0},\n",
    "    # CTC expansion\n",
    "    \"gov.contrib.reconciliation.ctc.in_effect\": {\"2026-01-01\": True},\n",
    "    \"gov.irs.credits.ctc.amount.base[0].amount\": {\"2026-01-01\": 2200},\n",
    "}, country_id=\"us\")\n",
    "\n",
    "sim_with_ctc = Microsimulation(reform=reform_with_ctc, dataset=DATASET)\n",
    "\n",
    "print(\"WITH CTC EXPANSION:\")\n",
    "print(f\"  Federal itemizes: {bool(sim_with_ctc.calculate('tax_unit_itemizes', YEAR).values[tu_idx])}\")\n",
    "print(f\"  MA state tax: ${sim_with_ctc.calculate('ma_income_tax', YEAR).values[tu_idx]:,.2f}\")\n",
    "print(f\"  MA Part B exemption: ${sim_with_ctc.calculate('ma_part_b_taxable_income_exemption', YEAR).values[tu_idx]:,.2f}\")"
   ]
  },
  {
   "cell_type": "markdown",
   "metadata": {},
   "source": [
    "## The Mechanism"
   ]
  },
  {
   "cell_type": "code",
   "execution_count": 4,
   "metadata": {},
   "outputs": [
    {
     "name": "stdout",
     "output_type": "stream",
     "text": [
      "IMPACT OF FEDERAL CTC EXPANSION ON MA STATE TAX:\n",
      "  MA state tax reduction: $56.41\n",
      "  MA Part B exemption increase: $1,128.17\n",
      "\n",
      "MECHANISM:\n",
      "1. CTC expansion triggers federal itemization\n",
      "2. MA allows itemizers to claim medical expense deduction\n",
      "3. Medical expense deduction: $1,128.17\n",
      "4. MA tax rate: 5%\n",
      "5. Tax savings: $1,128.17 × 5% = $56.41\n",
      "\n",
      "Federal tax is same either way: True\n"
     ]
    }
   ],
   "source": [
    "# Calculate the impact\n",
    "ma_tax_change = (sim_with_ctc.calculate('ma_income_tax', YEAR).values[tu_idx] - \n",
    "                 sim_no_ctc.calculate('ma_income_tax', YEAR).values[tu_idx])\n",
    "\n",
    "exemption_change = (sim_with_ctc.calculate('ma_part_b_taxable_income_exemption', YEAR).values[tu_idx] - \n",
    "                    sim_no_ctc.calculate('ma_part_b_taxable_income_exemption', YEAR).values[tu_idx])\n",
    "\n",
    "print(\"IMPACT OF FEDERAL CTC EXPANSION ON MA STATE TAX:\")\n",
    "print(f\"  MA state tax reduction: ${-ma_tax_change:,.2f}\")\n",
    "print(f\"  MA Part B exemption increase: ${exemption_change:,.2f}\")\n",
    "\n",
    "print(f\"\\nMECHANISM:\")\n",
    "print(f\"1. CTC expansion triggers federal itemization\")\n",
    "print(f\"2. MA allows itemizers to claim medical expense deduction\")\n",
    "print(f\"3. Medical expense deduction: ${sim_with_ctc.calculate('medical_expense_deduction', YEAR).values[tu_idx]:,.2f}\")\n",
    "print(f\"4. MA tax rate: 5%\")\n",
    "print(f\"5. Tax savings: ${exemption_change:,.2f} × 5% = ${exemption_change * 0.05:,.2f}\")\n",
    "\n",
    "# Verify federal tax is same either way\n",
    "fed_tax_item = sim_with_ctc.calculate('tax_liability_if_itemizing', YEAR).values[tu_idx]\n",
    "fed_tax_std = sim_with_ctc.calculate('tax_liability_if_not_itemizing', YEAR).values[tu_idx]\n",
    "print(f\"\\nFederal tax is same either way: {abs(fed_tax_item - fed_tax_std) < 0.01}\")"
   ]
  }
 ],
 "metadata": {
  "kernelspec": {
   "display_name": "Python 3",
   "language": "python",
   "name": "python3"
  },
  "language_info": {
   "codemirror_mode": {
    "name": "ipython",
    "version": 3
   },
   "file_extension": ".py",
   "mimetype": "text/x-python",
   "name": "python",
   "nbconvert_exporter": "python",
   "pygments_lexer": "ipython3",
   "version": "3.9.0"
  }
 },
 "nbformat": 4,
 "nbformat_minor": 4
}