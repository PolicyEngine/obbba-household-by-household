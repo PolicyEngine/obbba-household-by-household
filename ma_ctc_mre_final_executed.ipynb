{
 "cells": [
  {
   "cell_type": "markdown",
   "id": "1",
   "metadata": {},
   "source": [
    "# MRE: Federal CTC Expansion Reduces MA State Tax\n",
    "\n",
    "This notebook demonstrates how federal CTC expansion can reduce Massachusetts state tax by triggering itemization."
   ]
  },
  {
   "cell_type": "code",
   "execution_count": 1,
   "id": "2",
   "metadata": {
    "execution": {
     "iopub.execute_input": "2025-07-26T04:21:21.092030Z",
     "iopub.status.busy": "2025-07-26T04:21:21.091839Z",
     "iopub.status.idle": "2025-07-26T04:21:27.381846Z",
     "shell.execute_reply": "2025-07-26T04:21:27.381524Z"
    }
   },
   "outputs": [],
   "source": [
    "from policyengine_us import Simulation\n",
    "from policyengine_us.model_api import *"
   ]
  },
  {
   "cell_type": "markdown",
   "id": "3",
   "metadata": {},
   "source": [
    "## Define a minimal tax unit"
   ]
  },
  {
   "cell_type": "code",
   "execution_count": 2,
   "id": "4",
   "metadata": {
    "execution": {
     "iopub.execute_input": "2025-07-26T04:21:27.383326Z",
     "iopub.status.busy": "2025-07-26T04:21:27.383230Z",
     "iopub.status.idle": "2025-07-26T04:21:27.385489Z",
     "shell.execute_reply": "2025-07-26T04:21:27.385247Z"
    }
   },
   "outputs": [],
   "source": [
    "# Create a low-income family in MA with medical expenses\n",
    "# The key is that they have very low income and medical expenses\n",
    "situation = {\n",
    "    \"people\": {\n",
    "        \"parent1\": {\n",
    "            \"age\": {2026: 45},\n",
    "            \"employment_income\": {2026: 17_237},\n",
    "            \"medical_out_of_pocket_expenses\": {2026: 3_339},\n",
    "        },\n",
    "        \"parent2\": {\n",
    "            \"age\": {2026: 43},\n",
    "        },\n",
    "        \"child1\": {\"age\": {2026: 13}},\n",
    "        \"child2\": {\"age\": {2026: 12}},\n",
    "        \"child3\": {\"age\": {2026: 6}},\n",
    "        \"child4\": {\"age\": {2026: 4}},\n",
    "    },\n",
    "    \"tax_units\": {\n",
    "        \"tax_unit\": {\n",
    "            \"members\": [\"parent1\", \"parent2\", \"child1\", \"child2\", \"child3\", \"child4\"],\n",
    "        }\n",
    "    },\n",
    "    \"households\": {\n",
    "        \"household\": {\n",
    "            \"members\": [\"parent1\", \"parent2\", \"child1\", \"child2\", \"child3\", \"child4\"],\n",
    "            \"state_code\": {2026: \"MA\"},\n",
    "        }\n",
    "    },\n",
    "}"
   ]
  },
  {
   "cell_type": "markdown",
   "id": "5",
   "metadata": {},
   "source": [
    "## Scenario 1: Without CTC Expansion"
   ]
  },
  {
   "cell_type": "code",
   "execution_count": 3,
   "id": "6",
   "metadata": {
    "execution": {
     "iopub.execute_input": "2025-07-26T04:21:27.386590Z",
     "iopub.status.busy": "2025-07-26T04:21:27.386517Z",
     "iopub.status.idle": "2025-07-26T04:21:33.995078Z",
     "shell.execute_reply": "2025-07-26T04:21:33.994761Z"
    }
   },
   "outputs": [
    {
     "name": "stdout",
     "output_type": "stream",
     "text": [
      "WITHOUT CTC EXPANSION:\n"
     ]
    },
    {
     "name": "stdout",
     "output_type": "stream",
     "text": [
      "  Federal itemizes: False\n",
      "  Federal tax (itemizing): $-9,892.20\n",
      "  Federal tax (standard): $-9,892.20\n",
      "  MA state tax: $-4,422.66\n",
      "  MA Part B exemption: $12,800.00\n",
      "\n",
      "  Itemized deductions breakdown:\n",
      "    Medical expense deduction: $2,046.22\n"
     ]
    },
    {
     "name": "stdout",
     "output_type": "stream",
     "text": [
      "    State/local tax deduction: $641.85\n",
      "    Total itemized: $2,688.07\n",
      "  Standard deduction: $48,900.00\n"
     ]
    }
   ],
   "source": [
    "# Reform stack WITHOUT CTC (simulating Senate Finance Committee reforms)\n",
    "reform_no_ctc = Reform.from_dict({\n",
    "    # Tax rate changes\n",
    "    \"gov.irs.income.bracket.rates.2\": {\"2026-01-01\": 0.15},\n",
    "    \"gov.irs.income.bracket.rates.3\": {\"2026-01-01\": 0.25},\n",
    "    \"gov.irs.income.bracket.rates.4\": {\"2026-01-01\": 0.28},\n",
    "    # Standard deduction increase\n",
    "    \"gov.irs.deductions.standard.amount.JOINT\": {\"2026-01-01\": 48_900},\n",
    "    # Exemption elimination\n",
    "    \"gov.irs.income.exemption.amount\": {\"2026-01-01\": 0},\n",
    "}, country_id=\"us\")\n",
    "\n",
    "sim_no_ctc = Simulation(situation=situation, reform=reform_no_ctc)\n",
    "\n",
    "print(\"WITHOUT CTC EXPANSION:\")\n",
    "print(f\"  Federal itemizes: {bool(sim_no_ctc.calculate('tax_unit_itemizes', 2026)[0])}\")\n",
    "print(f\"  Federal tax (itemizing): ${sim_no_ctc.calculate('tax_liability_if_itemizing', 2026)[0]:,.2f}\")\n",
    "print(f\"  Federal tax (standard): ${sim_no_ctc.calculate('tax_liability_if_not_itemizing', 2026)[0]:,.2f}\")\n",
    "print(f\"  MA state tax: ${sim_no_ctc.calculate('ma_income_tax', 2026)[0]:,.2f}\")\n",
    "print(f\"  MA Part B exemption: ${sim_no_ctc.calculate('ma_part_b_taxable_income_exemption', 2026)[0]:,.2f}\")\n",
    "\n",
    "# Show itemized deductions\n",
    "print(f\"\\n  Itemized deductions breakdown:\")\n",
    "print(f\"    Medical expense deduction: ${sim_no_ctc.calculate('medical_expense_deduction', 2026)[0]:,.2f}\")\n",
    "print(f\"    State/local tax deduction: ${sim_no_ctc.calculate('salt_deduction', 2026)[0]:,.2f}\")\n",
    "print(f\"    Total itemized: ${sim_no_ctc.calculate('itemized_taxable_income_deductions', 2026)[0]:,.2f}\")\n",
    "print(f\"  Standard deduction: ${sim_no_ctc.calculate('standard_deduction', 2026)[0]:,.2f}\")"
   ]
  },
  {
   "cell_type": "markdown",
   "id": "7",
   "metadata": {},
   "source": [
    "## Scenario 2: With CTC Expansion"
   ]
  },
  {
   "cell_type": "code",
   "execution_count": 4,
   "id": "8",
   "metadata": {
    "execution": {
     "iopub.execute_input": "2025-07-26T04:21:33.996425Z",
     "iopub.status.busy": "2025-07-26T04:21:33.996327Z",
     "iopub.status.idle": "2025-07-26T04:21:40.594820Z",
     "shell.execute_reply": "2025-07-26T04:21:40.594540Z"
    }
   },
   "outputs": [
    {
     "name": "stdout",
     "output_type": "stream",
     "text": [
      "WITH CTC EXPANSION:\n"
     ]
    },
    {
     "name": "stdout",
     "output_type": "stream",
     "text": [
      "  Federal itemizes: False\n",
      "  Federal tax (itemizing): $-9,892.20\n",
      "  Federal tax (standard): $-9,892.20\n",
      "  MA state tax: $-4,422.66\n",
      "  MA Part B exemption: $12,800.00\n",
      "\n",
      "  Federal tax difference (itemizing - standard): $0.00\n"
     ]
    }
   ],
   "source": [
    "# Add CTC expansion\n",
    "reform_with_ctc = Reform.from_dict({\n",
    "    # Same as above plus CTC\n",
    "    \"gov.irs.income.bracket.rates.2\": {\"2026-01-01\": 0.15},\n",
    "    \"gov.irs.income.bracket.rates.3\": {\"2026-01-01\": 0.25},\n",
    "    \"gov.irs.income.bracket.rates.4\": {\"2026-01-01\": 0.28},\n",
    "    \"gov.irs.deductions.standard.amount.JOINT\": {\"2026-01-01\": 48_900},\n",
    "    \"gov.irs.income.exemption.amount\": {\"2026-01-01\": 0},\n",
    "    # CTC expansion\n",
    "    \"gov.contrib.reconciliation.ctc.in_effect\": {\"2026-01-01\": True},\n",
    "    \"gov.irs.credits.ctc.amount.base[0].amount\": {\"2026-01-01\": 2_200},\n",
    "}, country_id=\"us\")\n",
    "\n",
    "sim_with_ctc = Simulation(situation=situation, reform=reform_with_ctc)\n",
    "\n",
    "print(\"WITH CTC EXPANSION:\")\n",
    "print(f\"  Federal itemizes: {bool(sim_with_ctc.calculate('tax_unit_itemizes', 2026)[0])}\")\n",
    "print(f\"  Federal tax (itemizing): ${sim_with_ctc.calculate('tax_liability_if_itemizing', 2026)[0]:,.2f}\")\n",
    "print(f\"  Federal tax (standard): ${sim_with_ctc.calculate('tax_liability_if_not_itemizing', 2026)[0]:,.2f}\")\n",
    "print(f\"  MA state tax: ${sim_with_ctc.calculate('ma_income_tax', 2026)[0]:,.2f}\")\n",
    "print(f\"  MA Part B exemption: ${sim_with_ctc.calculate('ma_part_b_taxable_income_exemption', 2026)[0]:,.2f}\")\n",
    "\n",
    "# Show why they itemize\n",
    "fed_tax_diff = sim_with_ctc.calculate('tax_liability_if_itemizing', 2026)[0] - sim_with_ctc.calculate('tax_liability_if_not_itemizing', 2026)[0]\n",
    "print(f\"\\n  Federal tax difference (itemizing - standard): ${fed_tax_diff:,.2f}\")"
   ]
  },
  {
   "cell_type": "markdown",
   "id": "9",
   "metadata": {},
   "source": [
    "## Analysis"
   ]
  },
  {
   "cell_type": "code",
   "execution_count": 5,
   "id": "10",
   "metadata": {
    "execution": {
     "iopub.execute_input": "2025-07-26T04:21:40.596101Z",
     "iopub.status.busy": "2025-07-26T04:21:40.596019Z",
     "iopub.status.idle": "2025-07-26T04:21:40.598903Z",
     "shell.execute_reply": "2025-07-26T04:21:40.598630Z"
    }
   },
   "outputs": [
    {
     "name": "stdout",
     "output_type": "stream",
     "text": [
      "\n",
      "IMPACT OF FEDERAL CTC EXPANSION ON MA STATE TAX:\n",
      "  MA state tax change: $0.00\n",
      "  MA Part B exemption change: $0.00\n",
      "  Itemization change: False → False\n",
      "\n",
      "No MA tax impact in this example.\n"
     ]
    }
   ],
   "source": [
    "# Calculate the impact\n",
    "ma_tax_no_ctc = sim_no_ctc.calculate('ma_income_tax', 2026)[0]\n",
    "ma_tax_with_ctc = sim_with_ctc.calculate('ma_income_tax', 2026)[0]\n",
    "ma_tax_change = ma_tax_with_ctc - ma_tax_no_ctc\n",
    "\n",
    "exemption_no_ctc = sim_no_ctc.calculate('ma_part_b_taxable_income_exemption', 2026)[0]\n",
    "exemption_with_ctc = sim_with_ctc.calculate('ma_part_b_taxable_income_exemption', 2026)[0]\n",
    "exemption_change = exemption_with_ctc - exemption_no_ctc\n",
    "\n",
    "itemizes_no_ctc = bool(sim_no_ctc.calculate('tax_unit_itemizes', 2026)[0])\n",
    "itemizes_with_ctc = bool(sim_with_ctc.calculate('tax_unit_itemizes', 2026)[0])\n",
    "\n",
    "print(\"\\nIMPACT OF FEDERAL CTC EXPANSION ON MA STATE TAX:\")\n",
    "print(f\"  MA state tax change: ${ma_tax_change:,.2f}\")\n",
    "print(f\"  MA Part B exemption change: ${exemption_change:,.2f}\")\n",
    "print(f\"  Itemization change: {itemizes_no_ctc} → {itemizes_with_ctc}\")\n",
    "\n",
    "if itemizes_with_ctc and not itemizes_no_ctc:\n",
    "    print(f\"\\nMECHANISM:\")\n",
    "    print(f\"1. CTC expansion makes federal tax equal whether itemizing or not\")\n",
    "    print(f\"2. PolicyEngine chooses to itemize when indifferent\")\n",
    "    print(f\"3. MA allows itemizers to claim medical expense deduction\")\n",
    "    print(f\"4. Medical expense deduction: ${sim_with_ctc.calculate('medical_expense_deduction', 2026)[0]:,.2f}\")\n",
    "    print(f\"5. MA tax rate: 5%\")\n",
    "    print(f\"6. Tax savings: ${exemption_change:,.2f} × 5% = ${exemption_change * 0.05:,.2f}\")\n",
    "elif abs(ma_tax_change) > 0.01:\n",
    "    print(f\"\\nMA tax changed but itemization status didn't change.\")\n",
    "else:\n",
    "    print(\"\\nNo MA tax impact in this example.\")"
   ]
  }
 ],
 "metadata": {
  "kernelspec": {
   "display_name": "Python 3",
   "language": "python",
   "name": "python3"
  },
  "language_info": {
   "codemirror_mode": {
    "name": "ipython",
    "version": 3
   },
   "file_extension": ".py",
   "mimetype": "text/x-python",
   "name": "python",
   "nbconvert_exporter": "python",
   "pygments_lexer": "ipython3",
   "version": "3.13.3"
  }
 },
 "nbformat": 4,
 "nbformat_minor": 5
}
