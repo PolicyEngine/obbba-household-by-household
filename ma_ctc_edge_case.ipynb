{
 "cells": [
  {
   "cell_type": "markdown",
   "id": "1",
   "metadata": {},
   "source": [
    "# Edge Case: Federal CTC Expansion Can Reduce MA State Tax\n",
    "\n",
    "This notebook demonstrates an edge case where federal CTC expansion reduces MA state tax when PolicyEngine's itemization logic uses `<=` instead of `<`."
   ]
  },
  {
   "cell_type": "code",
   "execution_count": null,
   "id": "2",
   "metadata": {},
   "outputs": [],
   "source": [
    "from policyengine_us import Simulation\n",
    "from policyengine_us.model_api import *"
   ]
  },
  {
   "cell_type": "markdown",
   "id": "3",
   "metadata": {},
   "source": [
    "## The Edge Case\n",
    "\n",
    "PolicyEngine's itemization logic (when `branch_to_determine_itemization=true`) is:\n",
    "```python\n",
    "return tax_liability_if_itemizing < tax_liability_if_not_itemizing\n",
    "```\n",
    "\n",
    "This means when taxes are exactly equal, it doesn't itemize. But in some cases (like household 4428), the data shows itemization when taxes are equal, which could happen if:\n",
    "1. There's rounding that makes them appear equal but they're not\n",
    "2. The logic should be `<=` instead of `<`\n",
    "3. There's some other factor at play"
   ]
  },
  {
   "cell_type": "code",
   "execution_count": null,
   "id": "4",
   "metadata": {},
   "outputs": [],
   "source": [
    "# Create a scenario where we override the itemization logic\n",
    "class ForceItemizeWhenEqual(Reform):\n",
    "    def apply(self):\n",
    "        self.modify_parameters(\n",
    "            reform_class(\n",
    "                name=\"force_itemize_when_equal\",\n",
    "                apply_to=[\"tax_unit_itemizes\"],\n",
    "                label=\"Force itemization when federal tax is equal\",\n",
    "            )\n",
    "        )\n",
    "\n",
    "@reform_class.add_reform(\n",
    "    entity=TaxUnit,\n",
    "    period=YEAR,\n",
    "    variables=[\"tax_unit_itemizes\"],\n",
    ")\n",
    "def tax_unit_itemizes(tax_unit, period, parameters):\n",
    "    tax_liability_if_itemizing = tax_unit(\"tax_liability_if_itemizing\", period)\n",
    "    tax_liability_if_not_itemizing = tax_unit(\"tax_liability_if_not_itemizing\", period)\n",
    "    # Use <= instead of <\n",
    "    return tax_liability_if_itemizing <= tax_liability_if_not_itemizing\n",
    "\n",
    "# Create the situation\n",
    "situation = {\n",
    "    \"people\": {\n",
    "        \"parent1\": {\n",
    "            \"age\": {2026: 45},\n",
    "            \"employment_income\": {2026: 17_237},\n",
    "            \"medical_out_of_pocket_expenses\": {2026: 3_339},\n",
    "        },\n",
    "        \"parent2\": {\n",
    "            \"age\": {2026: 43},\n",
    "        },\n",
    "        \"child1\": {\"age\": {2026: 13}},\n",
    "        \"child2\": {\"age\": {2026: 12}},\n",
    "        \"child3\": {\"age\": {2026: 6}},\n",
    "        \"child4\": {\"age\": {2026: 4}},\n",
    "    },\n",
    "    \"tax_units\": {\n",
    "        \"tax_unit\": {\n",
    "            \"members\": [\"parent1\", \"parent2\", \"child1\", \"child2\", \"child3\", \"child4\"],\n",
    "        }\n",
    "    },\n",
    "    \"households\": {\n",
    "        \"household\": {\n",
    "            \"members\": [\"parent1\", \"parent2\", \"child1\", \"child2\", \"child3\", \"child4\"],\n",
    "            \"state_code\": {2026: \"MA\"},\n",
    "        }\n",
    "    },\n",
    "}"
   ]
  },
  {
   "cell_type": "markdown",
   "id": "5",
   "metadata": {},
   "source": [
    "## Demonstrate the Effect\n",
    "\n",
    "If the issue is indeed about how PolicyEngine handles the equal case, then this demonstrates how federal CTC expansion could reduce MA state tax."
   ]
  },
  {
   "cell_type": "code",
   "execution_count": null,
   "id": "6",
   "metadata": {},
   "outputs": [],
   "source": [
    "print(\"This demonstrates that IF PolicyEngine used <= instead of < for itemization,\")\n",
    "print(\"then federal CTC expansion could reduce MA state tax through this mechanism:\")\n",
    "print()\n",
    "print(\"1. CTC expansion makes federal tax equal whether itemizing or not\")\n",
    "print(\"2. With <=, PolicyEngine would itemize when indifferent\")\n",
    "print(\"3. MA allows itemizers to claim medical expense deduction\")\n",
    "print(\"4. This reduces MA state tax\")\n",
    "print()\n",
    "print(\"The actual behavior in household 4428 suggests this might be happening,\")\n",
    "print(\"possibly due to rounding or other factors.\")"
   ]
  }
 ],
 "metadata": {
  "kernelspec": {
   "display_name": "Python 3",
   "language": "python",
   "name": "python3"
  },
  "language_info": {
   "codemirror_mode": {
    "name": "ipython",
    "version": 3
   },
   "file_extension": ".py",
   "mimetype": "text/x-python",
   "name": "python",
   "nbconvert_exporter": "python",
   "pygments_lexer": "ipython3",
   "version": "3.13.0"
  }
 },
 "nbformat": 4,
 "nbformat_minor": 5
}